{
  "nbformat": 4,
  "nbformat_minor": 0,
  "metadata": {
    "colab": {
      "provenance": []
    },
    "kernelspec": {
      "name": "python3",
      "display_name": "Python 3"
    },
    "language_info": {
      "name": "python"
    }
  },
  "cells": [
    {
      "cell_type": "markdown",
      "source": [
        "# Analysis of Google Stock Price using RNN and LSTM Model"
      ],
      "metadata": {
        "id": "Ngkta4AmDuQ-"
      }
    },
    {
      "cell_type": "code",
      "execution_count": null,
      "metadata": {
        "id": "Uwqv_DJs6uIZ"
      },
      "outputs": [],
      "source": [
        "import pandas as pd\n",
        "import numpy as np\n",
        "import tensorflow as tf\n",
        "from tensorflow import keras\n",
        "from tensorflow.keras import layers\n",
        "from matplotlib import pyplot as plt\n"
      ]
    },
    {
      "cell_type": "markdown",
      "source": [
        "Loading Datasets"
      ],
      "metadata": {
        "id": "zAnhzNQOEDR_"
      }
    },
    {
      "cell_type": "code",
      "source": [
        "df_train=pd .read_csv(\"Google_Stock_Price_Train.csv\")\n",
        "df_train['Date'] = pd.to_datetime(df_train['Date'])\n",
        "display(df_train.head())\n",
        "display(df_train.info())"
      ],
      "metadata": {
        "colab": {
          "base_uri": "https://localhost:8080/",
          "height": 449
        },
        "id": "X2tJmOI2EAGL",
        "outputId": "58a022eb-8016-4708-cd8c-b2102ec5a436"
      },
      "execution_count": null,
      "outputs": [
        {
          "output_type": "display_data",
          "data": {
            "text/plain": [
              "        Date    Open    High     Low   Close      Volume\n",
              "0 2012-01-03  325.25  332.83  324.97  663.59   7,380,500\n",
              "1 2012-01-04  331.27  333.87  329.08  666.45   5,749,400\n",
              "2 2012-01-05  329.83  330.75  326.89  657.21   6,590,300\n",
              "3 2012-01-06  328.34  328.77  323.68  648.24   5,405,900\n",
              "4 2012-01-09  322.04  322.29  309.46  620.76  11,688,800"
            ],
            "text/html": [
              "\n",
              "  <div id=\"df-4b447878-080e-4a55-9f71-29d1d5036906\">\n",
              "    <div class=\"colab-df-container\">\n",
              "      <div>\n",
              "<style scoped>\n",
              "    .dataframe tbody tr th:only-of-type {\n",
              "        vertical-align: middle;\n",
              "    }\n",
              "\n",
              "    .dataframe tbody tr th {\n",
              "        vertical-align: top;\n",
              "    }\n",
              "\n",
              "    .dataframe thead th {\n",
              "        text-align: right;\n",
              "    }\n",
              "</style>\n",
              "<table border=\"1\" class=\"dataframe\">\n",
              "  <thead>\n",
              "    <tr style=\"text-align: right;\">\n",
              "      <th></th>\n",
              "      <th>Date</th>\n",
              "      <th>Open</th>\n",
              "      <th>High</th>\n",
              "      <th>Low</th>\n",
              "      <th>Close</th>\n",
              "      <th>Volume</th>\n",
              "    </tr>\n",
              "  </thead>\n",
              "  <tbody>\n",
              "    <tr>\n",
              "      <th>0</th>\n",
              "      <td>2012-01-03</td>\n",
              "      <td>325.25</td>\n",
              "      <td>332.83</td>\n",
              "      <td>324.97</td>\n",
              "      <td>663.59</td>\n",
              "      <td>7,380,500</td>\n",
              "    </tr>\n",
              "    <tr>\n",
              "      <th>1</th>\n",
              "      <td>2012-01-04</td>\n",
              "      <td>331.27</td>\n",
              "      <td>333.87</td>\n",
              "      <td>329.08</td>\n",
              "      <td>666.45</td>\n",
              "      <td>5,749,400</td>\n",
              "    </tr>\n",
              "    <tr>\n",
              "      <th>2</th>\n",
              "      <td>2012-01-05</td>\n",
              "      <td>329.83</td>\n",
              "      <td>330.75</td>\n",
              "      <td>326.89</td>\n",
              "      <td>657.21</td>\n",
              "      <td>6,590,300</td>\n",
              "    </tr>\n",
              "    <tr>\n",
              "      <th>3</th>\n",
              "      <td>2012-01-06</td>\n",
              "      <td>328.34</td>\n",
              "      <td>328.77</td>\n",
              "      <td>323.68</td>\n",
              "      <td>648.24</td>\n",
              "      <td>5,405,900</td>\n",
              "    </tr>\n",
              "    <tr>\n",
              "      <th>4</th>\n",
              "      <td>2012-01-09</td>\n",
              "      <td>322.04</td>\n",
              "      <td>322.29</td>\n",
              "      <td>309.46</td>\n",
              "      <td>620.76</td>\n",
              "      <td>11,688,800</td>\n",
              "    </tr>\n",
              "  </tbody>\n",
              "</table>\n",
              "</div>\n",
              "      <button class=\"colab-df-convert\" onclick=\"convertToInteractive('df-4b447878-080e-4a55-9f71-29d1d5036906')\"\n",
              "              title=\"Convert this dataframe to an interactive table.\"\n",
              "              style=\"display:none;\">\n",
              "        \n",
              "  <svg xmlns=\"http://www.w3.org/2000/svg\" height=\"24px\"viewBox=\"0 0 24 24\"\n",
              "       width=\"24px\">\n",
              "    <path d=\"M0 0h24v24H0V0z\" fill=\"none\"/>\n",
              "    <path d=\"M18.56 5.44l.94 2.06.94-2.06 2.06-.94-2.06-.94-.94-2.06-.94 2.06-2.06.94zm-11 1L8.5 8.5l.94-2.06 2.06-.94-2.06-.94L8.5 2.5l-.94 2.06-2.06.94zm10 10l.94 2.06.94-2.06 2.06-.94-2.06-.94-.94-2.06-.94 2.06-2.06.94z\"/><path d=\"M17.41 7.96l-1.37-1.37c-.4-.4-.92-.59-1.43-.59-.52 0-1.04.2-1.43.59L10.3 9.45l-7.72 7.72c-.78.78-.78 2.05 0 2.83L4 21.41c.39.39.9.59 1.41.59.51 0 1.02-.2 1.41-.59l7.78-7.78 2.81-2.81c.8-.78.8-2.07 0-2.86zM5.41 20L4 18.59l7.72-7.72 1.47 1.35L5.41 20z\"/>\n",
              "  </svg>\n",
              "      </button>\n",
              "      \n",
              "  <style>\n",
              "    .colab-df-container {\n",
              "      display:flex;\n",
              "      flex-wrap:wrap;\n",
              "      gap: 12px;\n",
              "    }\n",
              "\n",
              "    .colab-df-convert {\n",
              "      background-color: #E8F0FE;\n",
              "      border: none;\n",
              "      border-radius: 50%;\n",
              "      cursor: pointer;\n",
              "      display: none;\n",
              "      fill: #1967D2;\n",
              "      height: 32px;\n",
              "      padding: 0 0 0 0;\n",
              "      width: 32px;\n",
              "    }\n",
              "\n",
              "    .colab-df-convert:hover {\n",
              "      background-color: #E2EBFA;\n",
              "      box-shadow: 0px 1px 2px rgba(60, 64, 67, 0.3), 0px 1px 3px 1px rgba(60, 64, 67, 0.15);\n",
              "      fill: #174EA6;\n",
              "    }\n",
              "\n",
              "    [theme=dark] .colab-df-convert {\n",
              "      background-color: #3B4455;\n",
              "      fill: #D2E3FC;\n",
              "    }\n",
              "\n",
              "    [theme=dark] .colab-df-convert:hover {\n",
              "      background-color: #434B5C;\n",
              "      box-shadow: 0px 1px 3px 1px rgba(0, 0, 0, 0.15);\n",
              "      filter: drop-shadow(0px 1px 2px rgba(0, 0, 0, 0.3));\n",
              "      fill: #FFFFFF;\n",
              "    }\n",
              "  </style>\n",
              "\n",
              "      <script>\n",
              "        const buttonEl =\n",
              "          document.querySelector('#df-4b447878-080e-4a55-9f71-29d1d5036906 button.colab-df-convert');\n",
              "        buttonEl.style.display =\n",
              "          google.colab.kernel.accessAllowed ? 'block' : 'none';\n",
              "\n",
              "        async function convertToInteractive(key) {\n",
              "          const element = document.querySelector('#df-4b447878-080e-4a55-9f71-29d1d5036906');\n",
              "          const dataTable =\n",
              "            await google.colab.kernel.invokeFunction('convertToInteractive',\n",
              "                                                     [key], {});\n",
              "          if (!dataTable) return;\n",
              "\n",
              "          const docLinkHtml = 'Like what you see? Visit the ' +\n",
              "            '<a target=\"_blank\" href=https://colab.research.google.com/notebooks/data_table.ipynb>data table notebook</a>'\n",
              "            + ' to learn more about interactive tables.';\n",
              "          element.innerHTML = '';\n",
              "          dataTable['output_type'] = 'display_data';\n",
              "          await google.colab.output.renderOutput(dataTable, element);\n",
              "          const docLink = document.createElement('div');\n",
              "          docLink.innerHTML = docLinkHtml;\n",
              "          element.appendChild(docLink);\n",
              "        }\n",
              "      </script>\n",
              "    </div>\n",
              "  </div>\n",
              "  "
            ]
          },
          "metadata": {}
        },
        {
          "output_type": "stream",
          "name": "stdout",
          "text": [
            "<class 'pandas.core.frame.DataFrame'>\n",
            "RangeIndex: 1258 entries, 0 to 1257\n",
            "Data columns (total 6 columns):\n",
            " #   Column  Non-Null Count  Dtype         \n",
            "---  ------  --------------  -----         \n",
            " 0   Date    1258 non-null   datetime64[ns]\n",
            " 1   Open    1258 non-null   float64       \n",
            " 2   High    1258 non-null   float64       \n",
            " 3   Low     1258 non-null   float64       \n",
            " 4   Close   1258 non-null   object        \n",
            " 5   Volume  1258 non-null   object        \n",
            "dtypes: datetime64[ns](1), float64(3), object(2)\n",
            "memory usage: 59.1+ KB\n"
          ]
        },
        {
          "output_type": "display_data",
          "data": {
            "text/plain": [
              "None"
            ]
          },
          "metadata": {}
        }
      ]
    },
    {
      "cell_type": "code",
      "source": [
        "df_test = pd.read_csv(\"Google_Stock_Price_Test.csv\")\n",
        "df_test['Date'] = pd.to_datetime(df_test['Date'])\n",
        "display(df_test.head())\n",
        "display(df_test.info())"
      ],
      "metadata": {
        "colab": {
          "base_uri": "https://localhost:8080/",
          "height": 449
        },
        "id": "HD2VcPmqEGl0",
        "outputId": "43dab561-2422-482d-e598-b9f9b53c1ab9"
      },
      "execution_count": null,
      "outputs": [
        {
          "output_type": "display_data",
          "data": {
            "text/plain": [
              "        Date    Open    High     Low   Close     Volume\n",
              "0 2017-01-03  778.81  789.63  775.80  786.14  1,657,300\n",
              "1 2017-01-04  788.36  791.34  783.16  786.90  1,073,000\n",
              "2 2017-01-05  786.08  794.48  785.02  794.02  1,335,200\n",
              "3 2017-01-06  795.26  807.90  792.20  806.15  1,640,200\n",
              "4 2017-01-09  806.40  809.97  802.83  806.65  1,272,400"
            ],
            "text/html": [
              "\n",
              "  <div id=\"df-941aab4d-705f-49d2-a593-6e3a6cc28e5f\">\n",
              "    <div class=\"colab-df-container\">\n",
              "      <div>\n",
              "<style scoped>\n",
              "    .dataframe tbody tr th:only-of-type {\n",
              "        vertical-align: middle;\n",
              "    }\n",
              "\n",
              "    .dataframe tbody tr th {\n",
              "        vertical-align: top;\n",
              "    }\n",
              "\n",
              "    .dataframe thead th {\n",
              "        text-align: right;\n",
              "    }\n",
              "</style>\n",
              "<table border=\"1\" class=\"dataframe\">\n",
              "  <thead>\n",
              "    <tr style=\"text-align: right;\">\n",
              "      <th></th>\n",
              "      <th>Date</th>\n",
              "      <th>Open</th>\n",
              "      <th>High</th>\n",
              "      <th>Low</th>\n",
              "      <th>Close</th>\n",
              "      <th>Volume</th>\n",
              "    </tr>\n",
              "  </thead>\n",
              "  <tbody>\n",
              "    <tr>\n",
              "      <th>0</th>\n",
              "      <td>2017-01-03</td>\n",
              "      <td>778.81</td>\n",
              "      <td>789.63</td>\n",
              "      <td>775.80</td>\n",
              "      <td>786.14</td>\n",
              "      <td>1,657,300</td>\n",
              "    </tr>\n",
              "    <tr>\n",
              "      <th>1</th>\n",
              "      <td>2017-01-04</td>\n",
              "      <td>788.36</td>\n",
              "      <td>791.34</td>\n",
              "      <td>783.16</td>\n",
              "      <td>786.90</td>\n",
              "      <td>1,073,000</td>\n",
              "    </tr>\n",
              "    <tr>\n",
              "      <th>2</th>\n",
              "      <td>2017-01-05</td>\n",
              "      <td>786.08</td>\n",
              "      <td>794.48</td>\n",
              "      <td>785.02</td>\n",
              "      <td>794.02</td>\n",
              "      <td>1,335,200</td>\n",
              "    </tr>\n",
              "    <tr>\n",
              "      <th>3</th>\n",
              "      <td>2017-01-06</td>\n",
              "      <td>795.26</td>\n",
              "      <td>807.90</td>\n",
              "      <td>792.20</td>\n",
              "      <td>806.15</td>\n",
              "      <td>1,640,200</td>\n",
              "    </tr>\n",
              "    <tr>\n",
              "      <th>4</th>\n",
              "      <td>2017-01-09</td>\n",
              "      <td>806.40</td>\n",
              "      <td>809.97</td>\n",
              "      <td>802.83</td>\n",
              "      <td>806.65</td>\n",
              "      <td>1,272,400</td>\n",
              "    </tr>\n",
              "  </tbody>\n",
              "</table>\n",
              "</div>\n",
              "      <button class=\"colab-df-convert\" onclick=\"convertToInteractive('df-941aab4d-705f-49d2-a593-6e3a6cc28e5f')\"\n",
              "              title=\"Convert this dataframe to an interactive table.\"\n",
              "              style=\"display:none;\">\n",
              "        \n",
              "  <svg xmlns=\"http://www.w3.org/2000/svg\" height=\"24px\"viewBox=\"0 0 24 24\"\n",
              "       width=\"24px\">\n",
              "    <path d=\"M0 0h24v24H0V0z\" fill=\"none\"/>\n",
              "    <path d=\"M18.56 5.44l.94 2.06.94-2.06 2.06-.94-2.06-.94-.94-2.06-.94 2.06-2.06.94zm-11 1L8.5 8.5l.94-2.06 2.06-.94-2.06-.94L8.5 2.5l-.94 2.06-2.06.94zm10 10l.94 2.06.94-2.06 2.06-.94-2.06-.94-.94-2.06-.94 2.06-2.06.94z\"/><path d=\"M17.41 7.96l-1.37-1.37c-.4-.4-.92-.59-1.43-.59-.52 0-1.04.2-1.43.59L10.3 9.45l-7.72 7.72c-.78.78-.78 2.05 0 2.83L4 21.41c.39.39.9.59 1.41.59.51 0 1.02-.2 1.41-.59l7.78-7.78 2.81-2.81c.8-.78.8-2.07 0-2.86zM5.41 20L4 18.59l7.72-7.72 1.47 1.35L5.41 20z\"/>\n",
              "  </svg>\n",
              "      </button>\n",
              "      \n",
              "  <style>\n",
              "    .colab-df-container {\n",
              "      display:flex;\n",
              "      flex-wrap:wrap;\n",
              "      gap: 12px;\n",
              "    }\n",
              "\n",
              "    .colab-df-convert {\n",
              "      background-color: #E8F0FE;\n",
              "      border: none;\n",
              "      border-radius: 50%;\n",
              "      cursor: pointer;\n",
              "      display: none;\n",
              "      fill: #1967D2;\n",
              "      height: 32px;\n",
              "      padding: 0 0 0 0;\n",
              "      width: 32px;\n",
              "    }\n",
              "\n",
              "    .colab-df-convert:hover {\n",
              "      background-color: #E2EBFA;\n",
              "      box-shadow: 0px 1px 2px rgba(60, 64, 67, 0.3), 0px 1px 3px 1px rgba(60, 64, 67, 0.15);\n",
              "      fill: #174EA6;\n",
              "    }\n",
              "\n",
              "    [theme=dark] .colab-df-convert {\n",
              "      background-color: #3B4455;\n",
              "      fill: #D2E3FC;\n",
              "    }\n",
              "\n",
              "    [theme=dark] .colab-df-convert:hover {\n",
              "      background-color: #434B5C;\n",
              "      box-shadow: 0px 1px 3px 1px rgba(0, 0, 0, 0.15);\n",
              "      filter: drop-shadow(0px 1px 2px rgba(0, 0, 0, 0.3));\n",
              "      fill: #FFFFFF;\n",
              "    }\n",
              "  </style>\n",
              "\n",
              "      <script>\n",
              "        const buttonEl =\n",
              "          document.querySelector('#df-941aab4d-705f-49d2-a593-6e3a6cc28e5f button.colab-df-convert');\n",
              "        buttonEl.style.display =\n",
              "          google.colab.kernel.accessAllowed ? 'block' : 'none';\n",
              "\n",
              "        async function convertToInteractive(key) {\n",
              "          const element = document.querySelector('#df-941aab4d-705f-49d2-a593-6e3a6cc28e5f');\n",
              "          const dataTable =\n",
              "            await google.colab.kernel.invokeFunction('convertToInteractive',\n",
              "                                                     [key], {});\n",
              "          if (!dataTable) return;\n",
              "\n",
              "          const docLinkHtml = 'Like what you see? Visit the ' +\n",
              "            '<a target=\"_blank\" href=https://colab.research.google.com/notebooks/data_table.ipynb>data table notebook</a>'\n",
              "            + ' to learn more about interactive tables.';\n",
              "          element.innerHTML = '';\n",
              "          dataTable['output_type'] = 'display_data';\n",
              "          await google.colab.output.renderOutput(dataTable, element);\n",
              "          const docLink = document.createElement('div');\n",
              "          docLink.innerHTML = docLinkHtml;\n",
              "          element.appendChild(docLink);\n",
              "        }\n",
              "      </script>\n",
              "    </div>\n",
              "  </div>\n",
              "  "
            ]
          },
          "metadata": {}
        },
        {
          "output_type": "stream",
          "name": "stdout",
          "text": [
            "<class 'pandas.core.frame.DataFrame'>\n",
            "RangeIndex: 20 entries, 0 to 19\n",
            "Data columns (total 6 columns):\n",
            " #   Column  Non-Null Count  Dtype         \n",
            "---  ------  --------------  -----         \n",
            " 0   Date    20 non-null     datetime64[ns]\n",
            " 1   Open    20 non-null     float64       \n",
            " 2   High    20 non-null     float64       \n",
            " 3   Low     20 non-null     float64       \n",
            " 4   Close   20 non-null     float64       \n",
            " 5   Volume  20 non-null     object        \n",
            "dtypes: datetime64[ns](1), float64(4), object(1)\n",
            "memory usage: 1.1+ KB\n"
          ]
        },
        {
          "output_type": "display_data",
          "data": {
            "text/plain": [
              "None"
            ]
          },
          "metadata": {}
        }
      ]
    },
    {
      "cell_type": "code",
      "source": [
        "# Visualizing the Opening price for several years\n",
        "plt.figure(figsize=(10,6))\n",
        "plt.plot(df_train[\"Date\"], df_train[\"Open\"])\n",
        "plt.xlabel(\"Year\")\n",
        "plt.ylabel(\"Open\")\n",
        "plt.show()"
      ],
      "metadata": {
        "colab": {
          "base_uri": "https://localhost:8080/",
          "height": 388
        },
        "id": "2P1-uTM0Gjkw",
        "outputId": "1932c5f3-fcf2-42c7-fb29-e7a650a1250f"
      },
      "execution_count": null,
      "outputs": [
        {
          "output_type": "display_data",
          "data": {
            "text/plain": [
              "<Figure size 720x432 with 1 Axes>"
            ],
            "image/png": "[encoded data removed]"
          },
          "metadata": {
            "needs_background": "light"
          }
        }
      ]
    },
    {
      "cell_type": "markdown",
      "source": [
        "Preparing the Train data"
      ],
      "metadata": {
        "id": "paie7kByIFGm"
      }
    },
    {
      "cell_type": "code",
      "source": [
        "# Train data to feed the models\n",
        "train_set = df_train.loc[:, [\"Open\"]].values\n",
        "train_set.shape"
      ],
      "metadata": {
        "colab": {
          "base_uri": "https://localhost:8080/"
        },
        "id": "_hIjBm4mHyk9",
        "outputId": "b46c80e0-59d8-452f-a225-d234dfd47638"
      },
      "execution_count": null,
      "outputs": [
        {
          "output_type": "execute_result",
          "data": {
            "text/plain": [
              "(1258, 1)"
            ]
          },
          "metadata": {},
          "execution_count": 5
        }
      ]
    },
    {
      "cell_type": "code",
      "source": [
        "# Normailizing the data\n",
        "from sklearn.preprocessing import MinMaxScaler\n",
        "\n",
        "scaler = MinMaxScaler(feature_range = (0,1))\n",
        "train_data = scaler.fit_transform(train_set) "
      ],
      "metadata": {
        "id": "g3-NK8hQHYiF"
      },
      "execution_count": null,
      "outputs": []
    },
    {
      "cell_type": "code",
      "source": [
        "# Separating the data into x_train and y_train\n",
        "# Timesteps = 50\n",
        "x_train = [train_data[i-50:i, 0] for i in range(50, len(train_data))]\n",
        "\n",
        "y_train = [train_data[i, 0] for i in range(50, len(train_data))]\n",
        "\n",
        "x_train = np.array(x_train)\n",
        "y_train = np.array(y_train)\n",
        "\n",
        "x_train = np.reshape(x_train, (x_train.shape[0], x_train.shape[1], 1))\n",
        "display(x_train.shape);\n",
        "display(y_train.shape);"
      ],
      "metadata": {
        "colab": {
          "base_uri": "https://localhost:8080/",
          "height": 52
        },
        "id": "m_nLDNAkHpS5",
        "outputId": "4e009e34-9789-4307-b9bd-1cf700253c9a"
      },
      "execution_count": null,
      "outputs": [
        {
          "output_type": "display_data",
          "data": {
            "text/plain": [
              "(1208, 50, 1)"
            ]
          },
          "metadata": {}
        },
        {
          "output_type": "display_data",
          "data": {
            "text/plain": [
              "(1208,)"
            ]
          },
          "metadata": {}
        }
      ]
    },
    {
      "cell_type": "markdown",
      "source": [
        "Preparing the Test Data"
      ],
      "metadata": {
        "id": "jfHIT_R2Kjeo"
      }
    },
    {
      "cell_type": "code",
      "source": [
        "actual_val = df_test.loc[:,[\"Open\"]].values\n",
        "dataset_total = pd.concat((df_train[\"Open\"], df_test[\"Open\"]), axis = 0)\n",
        "\n",
        "inputs = dataset_total[len(dataset_total) - len(df_test) - 50:].values.reshape(-1,1)\n",
        "\n",
        "inputs = scaler.transform(inputs)\n",
        "\n",
        "x_test = [inputs[i - 50:i,0] for i in range(50, 70)]\n",
        "x_test = np.array(x_test)\n",
        "x_test = np.reshape(x_test, (x_test.shape[0], x_test.shape[1], 1))\n",
        "x_test.shape"
      ],
      "metadata": {
        "colab": {
          "base_uri": "https://localhost:8080/"
        },
        "id": "PvLsWhujKeqE",
        "outputId": "3bf1da2b-7c1c-426c-9668-3719f664e914"
      },
      "execution_count": null,
      "outputs": [
        {
          "output_type": "execute_result",
          "data": {
            "text/plain": [
              "(20, 50, 1)"
            ]
          },
          "metadata": {},
          "execution_count": 8
        }
      ]
    },
    {
      "cell_type": "markdown",
      "source": [
        "## Building RNN Model"
      ],
      "metadata": {
        "id": "VMUOP67pMXDT"
      }
    },
    {
      "cell_type": "code",
      "source": [
        "# Initialising the RNN\n",
        "model_rnn = keras.Sequential()\n",
        "model_rnn.add(layers.SimpleRNN(units = 50, activation = \"tanh\", return_sequences = True, input_shape = (x_train.shape[1], 1)))\n",
        "model_rnn.add(layers.Dropout(0.2))\n",
        "\n",
        "model_rnn.add(layers.SimpleRNN(units = 50, activation = \"tanh\", return_sequences = True))\n",
        "model_rnn.add(layers.Dropout(0.2))\n",
        "\n",
        "model_rnn.add(layers.SimpleRNN(units = 50, activation = \"tanh\", return_sequences = True))\n",
        "model_rnn.add(layers.Dropout(0.2))\n",
        "\n",
        "model_rnn.add(layers.SimpleRNN(units = 50))\n",
        "model_rnn.add(layers.Dropout(0.2))\n",
        "\n",
        "model_rnn.add(layers.Dense(units = 1))\n",
        "\n",
        "# Model Summary\n",
        "display(model_rnn.summary())\n",
        "\n",
        "# Compiling\n",
        "model_rnn.compile(optimizer = \"adam\", loss = \"MSE\",metrics=[\"MSE\"])\n",
        "\n",
        "# Fitting the RNN\n",
        "history_rnn = model_rnn.fit(x_train, y_train, epochs = 50, batch_size = 32,validation_split=0.1)"
      ],
      "metadata": {
        "colab": {
          "base_uri": "https://localhost:8080/",
          "height": 1000
        },
        "id": "mBZdDJwBBbYP",
        "outputId": "cb636dfc-6a94-406f-a4b4-a315fd0a59b2"
      },
      "execution_count": null,
      "outputs": [
        {
          "output_type": "stream",
          "name": "stdout",
          "text": [
            "Model: \"sequential\"\n",
            "_________________________________________________________________\n",
            " Layer (type)                Output Shape              Param #   \n",
            "=================================================================\n",
            " simple_rnn (SimpleRNN)      (None, 50, 50)            2600      \n",
            "                                                                 \n",
            " dropout (Dropout)           (None, 50, 50)            0         \n",
            "                                                                 \n",
            " simple_rnn_1 (SimpleRNN)    (None, 50, 50)            5050      \n",
            "                                                                 \n",
            " dropout_1 (Dropout)         (None, 50, 50)            0         \n",
            "                                                                 \n",
            " simple_rnn_2 (SimpleRNN)    (None, 50, 50)            5050      \n",
            "                                                                 \n",
            " dropout_2 (Dropout)         (None, 50, 50)            0         \n",
            "                                                                 \n",
            " simple_rnn_3 (SimpleRNN)    (None, 50)                5050      \n",
            "                                                                 \n",
            " dropout_3 (Dropout)         (None, 50)                0         \n",
            "                                                                 \n",
            " dense (Dense)               (None, 1)                 51        \n",
            "                                                                 \n",
            "=================================================================\n",
            "Total params: 17,801\n",
            "Trainable params: 17,801\n",
            "Non-trainable params: 0\n",
            "_________________________________________________________________\n"
          ]
        },
        {
          "output_type": "display_data",
          "data": {
            "text/plain": [
              "None"
            ]
          },
          "metadata": {}
        },
        {
          "output_type": "stream",
          "name": "stdout",
          "text": [
            "Epoch 1/50\n",
            "34/34 [==============================] - 16s 225ms/step - loss: 0.3316 - MSE: 0.3316 - val_loss: 0.0138 - val_MSE: 0.0138\n",
            "Epoch 2/50\n",
            "34/34 [==============================] - 5s 153ms/step - loss: 0.2193 - MSE: 0.2193 - val_loss: 0.0307 - val_MSE: 0.0307\n",
            "Epoch 3/50\n",
            "34/34 [==============================] - 5s 155ms/step - loss: 0.1559 - MSE: 0.1559 - val_loss: 0.0261 - val_MSE: 0.0261\n",
            "Epoch 4/50\n",
            "34/34 [==============================] - 6s 165ms/step - loss: 0.1191 - MSE: 0.1191 - val_loss: 0.0242 - val_MSE: 0.0242\n",
            "Epoch 5/50\n",
            "34/34 [==============================] - 5s 153ms/step - loss: 0.0956 - MSE: 0.0956 - val_loss: 0.0697 - val_MSE: 0.0697\n",
            "Epoch 6/50\n",
            "34/34 [==============================] - 5s 158ms/step - loss: 0.0839 - MSE: 0.0839 - val_loss: 0.0436 - val_MSE: 0.0436\n",
            "Epoch 7/50\n",
            "34/34 [==============================] - 5s 157ms/step - loss: 0.0670 - MSE: 0.0670 - val_loss: 0.0015 - val_MSE: 0.0015\n",
            "Epoch 8/50\n",
            "34/34 [==============================] - 5s 159ms/step - loss: 0.0493 - MSE: 0.0493 - val_loss: 0.0207 - val_MSE: 0.0207\n",
            "Epoch 9/50\n",
            "34/34 [==============================] - 5s 151ms/step - loss: 0.0510 - MSE: 0.0510 - val_loss: 0.0028 - val_MSE: 0.0028\n",
            "Epoch 10/50\n",
            "34/34 [==============================] - 5s 153ms/step - loss: 0.0385 - MSE: 0.0385 - val_loss: 0.0127 - val_MSE: 0.0127\n",
            "Epoch 11/50\n",
            "34/34 [==============================] - 5s 153ms/step - loss: 0.0358 - MSE: 0.0358 - val_loss: 0.0029 - val_MSE: 0.0029\n",
            "Epoch 12/50\n",
            "34/34 [==============================] - 5s 151ms/step - loss: 0.0334 - MSE: 0.0334 - val_loss: 0.0146 - val_MSE: 0.0146\n",
            "Epoch 13/50\n",
            "34/34 [==============================] - 5s 157ms/step - loss: 0.0300 - MSE: 0.0300 - val_loss: 0.0055 - val_MSE: 0.0055\n",
            "Epoch 14/50\n",
            "34/34 [==============================] - 5s 156ms/step - loss: 0.0258 - MSE: 0.0258 - val_loss: 0.0046 - val_MSE: 0.0046\n",
            "Epoch 15/50\n",
            "34/34 [==============================] - 6s 190ms/step - loss: 0.0212 - MSE: 0.0212 - val_loss: 0.0039 - val_MSE: 0.0039\n",
            "Epoch 16/50\n",
            "34/34 [==============================] - 5s 154ms/step - loss: 0.0207 - MSE: 0.0207 - val_loss: 0.0076 - val_MSE: 0.0076\n",
            "Epoch 17/50\n",
            "34/34 [==============================] - 5s 161ms/step - loss: 0.0207 - MSE: 0.0207 - val_loss: 0.0064 - val_MSE: 0.0064\n",
            "Epoch 18/50\n",
            "34/34 [==============================] - 5s 152ms/step - loss: 0.0166 - MSE: 0.0166 - val_loss: 0.0076 - val_MSE: 0.0076\n",
            "Epoch 19/50\n",
            "34/34 [==============================] - 5s 158ms/step - loss: 0.0152 - MSE: 0.0152 - val_loss: 0.0033 - val_MSE: 0.0033\n",
            "Epoch 20/50\n",
            "34/34 [==============================] - 5s 151ms/step - loss: 0.0147 - MSE: 0.0147 - val_loss: 0.0019 - val_MSE: 0.0019\n",
            "Epoch 21/50\n",
            "34/34 [==============================] - 5s 158ms/step - loss: 0.0149 - MSE: 0.0149 - val_loss: 9.9667e-04 - val_MSE: 9.9667e-04\n",
            "Epoch 22/50\n",
            "34/34 [==============================] - 6s 162ms/step - loss: 0.0127 - MSE: 0.0127 - val_loss: 7.1696e-04 - val_MSE: 7.1696e-04\n",
            "Epoch 23/50\n",
            "34/34 [==============================] - 5s 155ms/step - loss: 0.0127 - MSE: 0.0127 - val_loss: 0.0033 - val_MSE: 0.0033\n",
            "Epoch 24/50\n",
            "34/34 [==============================] - 5s 154ms/step - loss: 0.0118 - MSE: 0.0118 - val_loss: 6.3011e-04 - val_MSE: 6.3011e-04\n",
            "Epoch 25/50\n",
            "34/34 [==============================] - 5s 148ms/step - loss: 0.0115 - MSE: 0.0115 - val_loss: 0.0052 - val_MSE: 0.0052\n",
            "Epoch 26/50\n",
            "34/34 [==============================] - 5s 150ms/step - loss: 0.0098 - MSE: 0.0098 - val_loss: 4.1401e-04 - val_MSE: 4.1401e-04\n",
            "Epoch 27/50\n",
            "34/34 [==============================] - 5s 149ms/step - loss: 0.0100 - MSE: 0.0100 - val_loss: 0.0024 - val_MSE: 0.0024\n",
            "Epoch 28/50\n",
            "34/34 [==============================] - 5s 155ms/step - loss: 0.0097 - MSE: 0.0097 - val_loss: 5.6017e-04 - val_MSE: 5.6017e-04\n",
            "Epoch 29/50\n",
            "34/34 [==============================] - 5s 150ms/step - loss: 0.0089 - MSE: 0.0089 - val_loss: 0.0020 - val_MSE: 0.0020\n",
            "Epoch 30/50\n",
            "34/34 [==============================] - 5s 154ms/step - loss: 0.0090 - MSE: 0.0090 - val_loss: 5.9398e-04 - val_MSE: 5.9398e-04\n",
            "Epoch 31/50\n",
            "34/34 [==============================] - 5s 155ms/step - loss: 0.0089 - MSE: 0.0089 - val_loss: 0.0031 - val_MSE: 0.0031\n",
            "Epoch 32/50\n",
            "34/34 [==============================] - 5s 151ms/step - loss: 0.0087 - MSE: 0.0087 - val_loss: 0.0016 - val_MSE: 0.0016\n",
            "Epoch 33/50\n",
            "34/34 [==============================] - 5s 152ms/step - loss: 0.0068 - MSE: 0.0068 - val_loss: 4.2443e-04 - val_MSE: 4.2443e-04\n",
            "Epoch 34/50\n",
            "34/34 [==============================] - 5s 153ms/step - loss: 0.0072 - MSE: 0.0072 - val_loss: 5.8075e-04 - val_MSE: 5.8075e-04\n",
            "Epoch 35/50\n",
            "34/34 [==============================] - 5s 153ms/step - loss: 0.0074 - MSE: 0.0074 - val_loss: 0.0034 - val_MSE: 0.0034\n",
            "Epoch 36/50\n",
            "34/34 [==============================] - 5s 158ms/step - loss: 0.0076 - MSE: 0.0076 - val_loss: 5.0542e-04 - val_MSE: 5.0542e-04\n",
            "Epoch 37/50\n",
            "34/34 [==============================] - 5s 158ms/step - loss: 0.0066 - MSE: 0.0066 - val_loss: 0.0017 - val_MSE: 0.0017\n",
            "Epoch 38/50\n",
            "34/34 [==============================] - 5s 151ms/step - loss: 0.0071 - MSE: 0.0071 - val_loss: 0.0014 - val_MSE: 0.0014\n",
            "Epoch 39/50\n",
            "34/34 [==============================] - 5s 151ms/step - loss: 0.0067 - MSE: 0.0067 - val_loss: 5.7248e-04 - val_MSE: 5.7248e-04\n",
            "Epoch 40/50\n",
            "34/34 [==============================] - 5s 151ms/step - loss: 0.0055 - MSE: 0.0055 - val_loss: 5.1370e-04 - val_MSE: 5.1370e-04\n",
            "Epoch 41/50\n",
            "34/34 [==============================] - 5s 152ms/step - loss: 0.0055 - MSE: 0.0055 - val_loss: 0.0023 - val_MSE: 0.0023\n",
            "Epoch 42/50\n",
            "34/34 [==============================] - 5s 154ms/step - loss: 0.0054 - MSE: 0.0054 - val_loss: 0.0015 - val_MSE: 0.0015\n",
            "Epoch 43/50\n",
            "34/34 [==============================] - 5s 154ms/step - loss: 0.0051 - MSE: 0.0051 - val_loss: 0.0016 - val_MSE: 0.0016\n",
            "Epoch 44/50\n",
            "34/34 [==============================] - 5s 154ms/step - loss: 0.0046 - MSE: 0.0046 - val_loss: 0.0020 - val_MSE: 0.0020\n",
            "Epoch 45/50\n",
            "34/34 [==============================] - 5s 154ms/step - loss: 0.0051 - MSE: 0.0051 - val_loss: 8.4437e-04 - val_MSE: 8.4437e-04\n",
            "Epoch 46/50\n",
            "34/34 [==============================] - 5s 149ms/step - loss: 0.0046 - MSE: 0.0046 - val_loss: 3.6610e-04 - val_MSE: 3.6610e-04\n",
            "Epoch 47/50\n",
            "34/34 [==============================] - 5s 150ms/step - loss: 0.0049 - MSE: 0.0049 - val_loss: 4.6406e-04 - val_MSE: 4.6406e-04\n",
            "Epoch 48/50\n",
            "34/34 [==============================] - 5s 151ms/step - loss: 0.0043 - MSE: 0.0043 - val_loss: 8.9811e-04 - val_MSE: 8.9811e-04\n",
            "Epoch 49/50\n",
            "34/34 [==============================] - 5s 155ms/step - loss: 0.0043 - MSE: 0.0043 - val_loss: 0.0014 - val_MSE: 0.0014\n",
            "Epoch 50/50\n",
            "34/34 [==============================] - 5s 150ms/step - loss: 0.0045 - MSE: 0.0045 - val_loss: 9.9755e-04 - val_MSE: 9.9755e-04\n"
          ]
        }
      ]
    },
    {
      "cell_type": "code",
      "source": [
        "loss = history_rnn.history['loss']\n",
        "acc = history_rnn.history['MSE']\n",
        "val_loss = history_rnn.history['val_loss']\n",
        "val_acc = history_rnn.history['val_MSE']\n",
        "\n",
        "epochs = range(1, len(loss)+1)\n",
        "\n",
        "plt.figure(figsize=(10,5))\n",
        "plt.plot(epochs, acc, label='Training MSE')\n",
        "plt.plot(epochs, val_acc, label='Validation RMSE')\n",
        "plt.title(\"Training MSE Vs Validation MSE\")\n",
        "plt.legend()\n",
        "plt.show()"
      ],
      "metadata": {
        "colab": {
          "base_uri": "https://localhost:8080/",
          "height": 336
        },
        "id": "B-ahw9NxJgmX",
        "outputId": "82a43004-a269-4012-c15d-778c7ce8c419"
      },
      "execution_count": null,
      "outputs": [
        {
          "output_type": "display_data",
          "data": {
            "text/plain": [
              "<Figure size 720x360 with 1 Axes>"
            ],
            "image/png": "[encoded data removed]"
          },
          "metadata": {
            "needs_background": "light"
          }
        }
      ]
    },
    {
      "cell_type": "markdown",
      "source": [
        "Predicting on Test Data"
      ],
      "metadata": {
        "id": "8sGL9kJoK5ib"
      }
    },
    {
      "cell_type": "code",
      "source": [
        "predicted_price_rnn = model_rnn.predict(x_test)\n",
        "predicted_values_rnn = scaler.inverse_transform(predicted_price_rnn)"
      ],
      "metadata": {
        "id": "RWtPZCXhK4Cc"
      },
      "execution_count": null,
      "outputs": []
    },
    {
      "cell_type": "markdown",
      "source": [
        "Visualizing Actual vs Predicted Open price of stocks"
      ],
      "metadata": {
        "id": "FYM_U9VCLJEw"
      }
    },
    {
      "cell_type": "code",
      "source": [
        "plt.plot(actual_val, color = \"red\", label = \"Real Google Stock Price\")\n",
        "plt.plot(predicted_values_rnn, color = \"blue\", label = \"Predicted Google Stock Price\")\n",
        "plt.legend()\n",
        "plt.show()"
      ],
      "metadata": {
        "colab": {
          "base_uri": "https://localhost:8080/",
          "height": 267
        },
        "id": "bydyULnsLV3y",
        "outputId": "52413755-073b-4642-ee09-d7399c6518d4"
      },
      "execution_count": null,
      "outputs": [
        {
          "output_type": "display_data",
          "data": {
            "text/plain": [
              "<Figure size 432x288 with 1 Axes>"
            ],
            "image/png": "[encoded data removed]"
          },
          "metadata": {
            "needs_background": "light"
          }
        }
      ]
    },
    {
      "cell_type": "markdown",
      "source": [
        "## Building LSTM Model"
      ],
      "metadata": {
        "id": "7zSO16dWMcwF"
      }
    },
    {
      "cell_type": "code",
      "source": [
        "# Building a LSTM Model with 4 Layers\n",
        "model_lstm = keras.Sequential()\n",
        "model_lstm.add(layers.LSTM(units = 50, return_sequences = True, input_shape = (x_train.shape[1], 1)))\n",
        "model_lstm.add(layers.Dropout(0.2))     # Preventing overfitting of data\n",
        "\n",
        "model_lstm.add(layers.LSTM(units = 50, return_sequences = True))\n",
        "model_lstm.add(layers.Dropout(0.2))\n",
        "\n",
        "model_lstm.add(layers.LSTM(units = 50, return_sequences = True))\n",
        "model_lstm.add(layers.Dropout(0.2))\n",
        "\n",
        "model_lstm.add(layers.LSTM(units = 50))\n",
        "model_lstm.add(layers.Dropout(0.2))\n",
        "\n",
        "model_lstm.add(layers.Dense(units=1,name=\"OutputLayer\"))\n",
        "\n",
        "display(model_lstm.summary())\n",
        "\n",
        "# Compiling\n",
        "opt = tf.keras.optimizers.Adam(learning_rate=0.0001)\n",
        "model_lstm.compile(loss='MSE',optimizer=opt, metrics=[\"MSE\"])\n",
        "\n",
        "# Fitting the Model\n",
        "history_lstm = model_lstm.fit(x_train,y_train, epochs=50,batch_size=32,validation_split=0.1)"
      ],
      "metadata": {
        "colab": {
          "base_uri": "https://localhost:8080/",
          "height": 1000
        },
        "id": "ltAS4xYPI5dJ",
        "outputId": "a80f93c5-d7b1-4183-896f-b32866c1a973"
      },
      "execution_count": null,
      "outputs": [
        {
          "output_type": "stream",
          "name": "stdout",
          "text": [
            "Model: \"sequential_1\"\n",
            "_________________________________________________________________\n",
            " Layer (type)                Output Shape              Param #   \n",
            "=================================================================\n",
            " lstm (LSTM)                 (None, 50, 50)            10400     \n",
            "                                                                 \n",
            " dropout_4 (Dropout)         (None, 50, 50)            0         \n",
            "                                                                 \n",
            " lstm_1 (LSTM)               (None, 50, 50)            20200     \n",
            "                                                                 \n",
            " dropout_5 (Dropout)         (None, 50, 50)            0         \n",
            "                                                                 \n",
            " lstm_2 (LSTM)               (None, 50, 50)            20200     \n",
            "                                                                 \n",
            " dropout_6 (Dropout)         (None, 50, 50)            0         \n",
            "                                                                 \n",
            " lstm_3 (LSTM)               (None, 50)                20200     \n",
            "                                                                 \n",
            " dropout_7 (Dropout)         (None, 50)                0         \n",
            "                                                                 \n",
            " OutputLayer (Dense)         (None, 1)                 51        \n",
            "                                                                 \n",
            "=================================================================\n",
            "Total params: 71,051\n",
            "Trainable params: 71,051\n",
            "Non-trainable params: 0\n",
            "_________________________________________________________________\n"
          ]
        },
        {
          "output_type": "display_data",
          "data": {
            "text/plain": [
              "None"
            ]
          },
          "metadata": {}
        },
        {
          "output_type": "stream",
          "name": "stdout",
          "text": [
            "Epoch 1/50\n",
            "34/34 [==============================] - 9s 53ms/step - loss: 0.1432 - MSE: 0.1432 - val_loss: 0.0964 - val_MSE: 0.0964\n",
            "Epoch 2/50\n",
            "34/34 [==============================] - 0s 13ms/step - loss: 0.0142 - MSE: 0.0142 - val_loss: 0.0279 - val_MSE: 0.0279\n",
            "Epoch 3/50\n",
            "34/34 [==============================] - 0s 13ms/step - loss: 0.0094 - MSE: 0.0094 - val_loss: 0.0126 - val_MSE: 0.0126\n",
            "Epoch 4/50\n",
            "34/34 [==============================] - 0s 13ms/step - loss: 0.0073 - MSE: 0.0073 - val_loss: 0.0041 - val_MSE: 0.0041\n",
            "Epoch 5/50\n",
            "34/34 [==============================] - 0s 14ms/step - loss: 0.0066 - MSE: 0.0066 - val_loss: 0.0030 - val_MSE: 0.0030\n",
            "Epoch 6/50\n",
            "34/34 [==============================] - 0s 14ms/step - loss: 0.0066 - MSE: 0.0066 - val_loss: 0.0028 - val_MSE: 0.0028\n",
            "Epoch 7/50\n",
            "34/34 [==============================] - 0s 13ms/step - loss: 0.0061 - MSE: 0.0061 - val_loss: 0.0033 - val_MSE: 0.0033\n",
            "Epoch 8/50\n",
            "34/34 [==============================] - 0s 13ms/step - loss: 0.0063 - MSE: 0.0063 - val_loss: 0.0024 - val_MSE: 0.0024\n",
            "Epoch 9/50\n",
            "34/34 [==============================] - 0s 14ms/step - loss: 0.0054 - MSE: 0.0054 - val_loss: 0.0019 - val_MSE: 0.0019\n",
            "Epoch 10/50\n",
            "34/34 [==============================] - 0s 14ms/step - loss: 0.0058 - MSE: 0.0058 - val_loss: 0.0024 - val_MSE: 0.0024\n",
            "Epoch 11/50\n",
            "34/34 [==============================] - 0s 13ms/step - loss: 0.0053 - MSE: 0.0053 - val_loss: 0.0016 - val_MSE: 0.0016\n",
            "Epoch 12/50\n",
            "34/34 [==============================] - 0s 13ms/step - loss: 0.0053 - MSE: 0.0053 - val_loss: 0.0058 - val_MSE: 0.0058\n",
            "Epoch 13/50\n",
            "34/34 [==============================] - 0s 14ms/step - loss: 0.0056 - MSE: 0.0056 - val_loss: 0.0028 - val_MSE: 0.0028\n",
            "Epoch 14/50\n",
            "34/34 [==============================] - 0s 14ms/step - loss: 0.0054 - MSE: 0.0054 - val_loss: 0.0026 - val_MSE: 0.0026\n",
            "Epoch 15/50\n",
            "34/34 [==============================] - 1s 15ms/step - loss: 0.0049 - MSE: 0.0049 - val_loss: 0.0016 - val_MSE: 0.0016\n",
            "Epoch 16/50\n",
            "34/34 [==============================] - 0s 13ms/step - loss: 0.0053 - MSE: 0.0053 - val_loss: 0.0040 - val_MSE: 0.0040\n",
            "Epoch 17/50\n",
            "34/34 [==============================] - 0s 13ms/step - loss: 0.0049 - MSE: 0.0049 - val_loss: 0.0027 - val_MSE: 0.0027\n",
            "Epoch 18/50\n",
            "34/34 [==============================] - 0s 13ms/step - loss: 0.0050 - MSE: 0.0050 - val_loss: 0.0044 - val_MSE: 0.0044\n",
            "Epoch 19/50\n",
            "34/34 [==============================] - 0s 13ms/step - loss: 0.0048 - MSE: 0.0048 - val_loss: 0.0033 - val_MSE: 0.0033\n",
            "Epoch 20/50\n",
            "34/34 [==============================] - 0s 13ms/step - loss: 0.0047 - MSE: 0.0047 - val_loss: 0.0022 - val_MSE: 0.0022\n",
            "Epoch 21/50\n",
            "34/34 [==============================] - 0s 13ms/step - loss: 0.0050 - MSE: 0.0050 - val_loss: 0.0019 - val_MSE: 0.0019\n",
            "Epoch 22/50\n",
            "34/34 [==============================] - 0s 13ms/step - loss: 0.0047 - MSE: 0.0047 - val_loss: 0.0025 - val_MSE: 0.0025\n",
            "Epoch 23/50\n",
            "34/34 [==============================] - 0s 13ms/step - loss: 0.0047 - MSE: 0.0047 - val_loss: 0.0019 - val_MSE: 0.0019\n",
            "Epoch 24/50\n",
            "34/34 [==============================] - 0s 14ms/step - loss: 0.0050 - MSE: 0.0050 - val_loss: 0.0026 - val_MSE: 0.0026\n",
            "Epoch 25/50\n",
            "34/34 [==============================] - 0s 14ms/step - loss: 0.0045 - MSE: 0.0045 - val_loss: 0.0020 - val_MSE: 0.0020\n",
            "Epoch 26/50\n",
            "34/34 [==============================] - 0s 13ms/step - loss: 0.0044 - MSE: 0.0044 - val_loss: 0.0028 - val_MSE: 0.0028\n",
            "Epoch 27/50\n",
            "34/34 [==============================] - 0s 14ms/step - loss: 0.0046 - MSE: 0.0046 - val_loss: 0.0046 - val_MSE: 0.0046\n",
            "Epoch 28/50\n",
            "34/34 [==============================] - 0s 13ms/step - loss: 0.0042 - MSE: 0.0042 - val_loss: 0.0041 - val_MSE: 0.0041\n",
            "Epoch 29/50\n",
            "34/34 [==============================] - 0s 13ms/step - loss: 0.0047 - MSE: 0.0047 - val_loss: 0.0037 - val_MSE: 0.0037\n",
            "Epoch 30/50\n",
            "34/34 [==============================] - 0s 15ms/step - loss: 0.0046 - MSE: 0.0046 - val_loss: 0.0014 - val_MSE: 0.0014\n",
            "Epoch 31/50\n",
            "34/34 [==============================] - 0s 13ms/step - loss: 0.0040 - MSE: 0.0040 - val_loss: 0.0017 - val_MSE: 0.0017\n",
            "Epoch 32/50\n",
            "34/34 [==============================] - 0s 13ms/step - loss: 0.0043 - MSE: 0.0043 - val_loss: 0.0014 - val_MSE: 0.0014\n",
            "Epoch 33/50\n",
            "34/34 [==============================] - 0s 14ms/step - loss: 0.0049 - MSE: 0.0049 - val_loss: 0.0043 - val_MSE: 0.0043\n",
            "Epoch 34/50\n",
            "34/34 [==============================] - 0s 14ms/step - loss: 0.0044 - MSE: 0.0044 - val_loss: 0.0042 - val_MSE: 0.0042\n",
            "Epoch 35/50\n",
            "34/34 [==============================] - 0s 13ms/step - loss: 0.0040 - MSE: 0.0040 - val_loss: 0.0016 - val_MSE: 0.0016\n",
            "Epoch 36/50\n",
            "34/34 [==============================] - 0s 13ms/step - loss: 0.0041 - MSE: 0.0041 - val_loss: 0.0052 - val_MSE: 0.0052\n",
            "Epoch 37/50\n",
            "34/34 [==============================] - 0s 13ms/step - loss: 0.0043 - MSE: 0.0043 - val_loss: 0.0015 - val_MSE: 0.0015\n",
            "Epoch 38/50\n",
            "34/34 [==============================] - 0s 13ms/step - loss: 0.0042 - MSE: 0.0042 - val_loss: 0.0032 - val_MSE: 0.0032\n",
            "Epoch 39/50\n",
            "34/34 [==============================] - 0s 13ms/step - loss: 0.0041 - MSE: 0.0041 - val_loss: 0.0027 - val_MSE: 0.0027\n",
            "Epoch 40/50\n",
            "34/34 [==============================] - 0s 14ms/step - loss: 0.0040 - MSE: 0.0040 - val_loss: 0.0014 - val_MSE: 0.0014\n",
            "Epoch 41/50\n",
            "34/34 [==============================] - 0s 14ms/step - loss: 0.0036 - MSE: 0.0036 - val_loss: 0.0028 - val_MSE: 0.0028\n",
            "Epoch 42/50\n",
            "34/34 [==============================] - 0s 13ms/step - loss: 0.0040 - MSE: 0.0040 - val_loss: 0.0023 - val_MSE: 0.0023\n",
            "Epoch 43/50\n",
            "34/34 [==============================] - 0s 13ms/step - loss: 0.0040 - MSE: 0.0040 - val_loss: 0.0024 - val_MSE: 0.0024\n",
            "Epoch 44/50\n",
            "34/34 [==============================] - 0s 13ms/step - loss: 0.0040 - MSE: 0.0040 - val_loss: 0.0045 - val_MSE: 0.0045\n",
            "Epoch 45/50\n",
            "34/34 [==============================] - 0s 13ms/step - loss: 0.0046 - MSE: 0.0046 - val_loss: 0.0057 - val_MSE: 0.0057\n",
            "Epoch 46/50\n",
            "34/34 [==============================] - 0s 13ms/step - loss: 0.0043 - MSE: 0.0043 - val_loss: 0.0024 - val_MSE: 0.0024\n",
            "Epoch 47/50\n",
            "34/34 [==============================] - 0s 13ms/step - loss: 0.0040 - MSE: 0.0040 - val_loss: 0.0018 - val_MSE: 0.0018\n",
            "Epoch 48/50\n",
            "34/34 [==============================] - 1s 15ms/step - loss: 0.0039 - MSE: 0.0039 - val_loss: 0.0020 - val_MSE: 0.0020\n",
            "Epoch 49/50\n",
            "34/34 [==============================] - 0s 14ms/step - loss: 0.0037 - MSE: 0.0037 - val_loss: 0.0026 - val_MSE: 0.0026\n",
            "Epoch 50/50\n",
            "34/34 [==============================] - 0s 13ms/step - loss: 0.0035 - MSE: 0.0035 - val_loss: 0.0031 - val_MSE: 0.0031\n"
          ]
        }
      ]
    },
    {
      "cell_type": "code",
      "source": [
        "loss = history_lstm.history['loss']\n",
        "acc = history_lstm.history['MSE']\n",
        "val_loss = history_lstm.history['val_loss']\n",
        "val_acc = history_lstm.history['val_MSE']\n",
        "\n",
        "epochs = range(1, len(loss)+1)\n",
        "\n",
        "plt.figure(figsize=(10,5))\n",
        "plt.plot(epochs, acc, label='Training MSE')\n",
        "plt.plot(epochs, val_acc, label='Validation RMSE')\n",
        "plt.title(\"Training MSE Vs Validation MSE\")\n",
        "plt.legend()\n",
        "plt.show()"
      ],
      "metadata": {
        "colab": {
          "base_uri": "https://localhost:8080/",
          "height": 336
        },
        "id": "x7XgHh1gLdor",
        "outputId": "98bc0f0d-83be-4480-f39e-83eba96e17fe"
      },
      "execution_count": null,
      "outputs": [
        {
          "output_type": "display_data",
          "data": {
            "text/plain": [
              "<Figure size 720x360 with 1 Axes>"
            ],
            "image/png": "[encoded data removed]"
          },
          "metadata": {
            "needs_background": "light"
          }
        }
      ]
    },
    {
      "cell_type": "markdown",
      "source": [
        "Predicting on Test Data"
      ],
      "metadata": {
        "id": "R75WTa7ULjfw"
      }
    },
    {
      "cell_type": "code",
      "source": [
        "predicted_price_lstm = model_lstm.predict(x_test)\n",
        "predicted_values_lstm = scaler.inverse_transform(predicted_price_lstm)"
      ],
      "metadata": {
        "id": "ncamumhILnqG"
      },
      "execution_count": null,
      "outputs": []
    },
    {
      "cell_type": "markdown",
      "source": [
        "Visualizing Actual vs Predicted Open price of stocks"
      ],
      "metadata": {
        "id": "vcr_53EHLxLG"
      }
    },
    {
      "cell_type": "code",
      "source": [
        "plt.plot(actual_val, color = \"red\", label = \"Real Google Stock Price\")\n",
        "plt.plot(predicted_values_lstm, color = \"blue\", label = \"Predicted Google Stock Price\")\n",
        "plt.legend()\n",
        "plt.show()"
      ],
      "metadata": {
        "colab": {
          "base_uri": "https://localhost:8080/",
          "height": 266
        },
        "id": "kMvrTXXZL4ni",
        "outputId": "5192f121-1413-48dc-a1da-12fb70116688"
      },
      "execution_count": null,
      "outputs": [
        {
          "output_type": "display_data",
          "data": {
            "text/plain": [
              "<Figure size 432x288 with 1 Axes>"
            ],
            "image/png": "[encoded data removed]"
          },
          "metadata": {
            "needs_background": "light"
          }
        }
      ]
    },
    {
      "cell_type": "markdown",
      "source": [
        "## Comparing Predictions of RNN, LSTM and Actual Price"
      ],
      "metadata": {
        "id": "nw8BKMRsMqjw"
      }
    },
    {
      "cell_type": "code",
      "source": [
        "plt.plot(actual_val,color=\"red\",label=\"Real Google Stock Price\")\n",
        "plt.plot(predicted_values_rnn,color=\"blue\",label=\"Preticted Google Stock Price with RNN\")\n",
        "plt.plot(predicted_values_lstm,color=\"green\",label=\"Preticted Google Stock Price with LSTM\")\n",
        "plt.title(\"Google Stock Price Prediction\")\n",
        "plt.xlabel(\"Time\")\n",
        "plt.ylabel(\"Google Stock Price\")\n",
        "plt.legend()\n",
        "plt.show()"
      ],
      "metadata": {
        "colab": {
          "base_uri": "https://localhost:8080/",
          "height": 295
        },
        "id": "KgzrhjiEp-4q",
        "outputId": "5ce10415-8238-4053-e233-0f09ba055903"
      },
      "execution_count": null,
      "outputs": [
        {
          "output_type": "display_data",
          "data": {
            "text/plain": [
              "<Figure size 432x288 with 1 Axes>"
            ],
            "image/png": "[encoded data removed]"
          },
          "metadata": {
            "needs_background": "light"
          }
        }
      ]
    },
    {
      "cell_type": "markdown",
      "source": [
        "RNN has lesser MSE, whereas LSTM has Higher MSE. Since 4 hidden layers are used in both cases. LSTM performace is poor compared to RNN.\n",
        "Simple RNN fits Good to this Dataset"
      ],
      "metadata": {
        "id": "N3yodujRz04W"
      }
    },
    {
      "cell_type": "code",
      "source": [],
      "metadata": {
        "id": "e4Y5BI8lNGkw"
      },
      "execution_count": null,
      "outputs": []
    }
  ]
}