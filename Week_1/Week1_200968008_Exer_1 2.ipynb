{
  "nbformat": 4,
  "nbformat_minor": 0,
  "metadata": {
    "colab": {
      "name": "Week1_200968008_Exer-1.ipynb",
      "provenance": [],
      "collapsed_sections": []
    },
    "kernelspec": {
      "name": "python3",
      "display_name": "Python 3"
    },
    "language_info": {
      "name": "python"
    },
    "accelerator": "GPU",
    "gpuClass": "standard"
  },
  "cells": [
    {
      "cell_type": "markdown",
      "source": [
        "# Analysis of Fashion MNIST Dataset using TensorFlow"
      ],
      "metadata": {
        "id": "hUhYul66t-2N"
      }
    },
    {
      "cell_type": "code",
      "execution_count": 2,
      "metadata": {
        "id": "W_4zag3Kb-P5"
      },
      "outputs": [],
      "source": [
        "# Importing the Libraries\n",
        "import tensorflow as tf\n",
        "import numpy as np\n",
        "import matplotlib.pyplot as plt\n",
        "import seaborn as sns"
      ]
    },
    {
      "cell_type": "code",
      "source": [
        "# Loading the Fashion MNIST dataset\n",
        "mnist = tf.keras.datasets.fashion_mnist\n",
        "(x_train,y_train),(x_test,y_test) = mnist.load_data()"
      ],
      "metadata": {
        "colab": {
          "base_uri": "https://localhost:8080/"
        },
        "id": "c9yIZLG3cHE3",
        "outputId": "7b10798b-4d62-45f5-b71b-58c4ab3296a4"
      },
      "execution_count": 3,
      "outputs": [
        {
          "output_type": "stream",
          "name": "stdout",
          "text": [
            "Downloading data from https://storage.googleapis.com/tensorflow/tf-keras-datasets/train-labels-idx1-ubyte.gz\n",
            "32768/29515 [=================================] - 0s 0us/step\n",
            "40960/29515 [=========================================] - 0s 0us/step\n",
            "Downloading data from https://storage.googleapis.com/tensorflow/tf-keras-datasets/train-images-idx3-ubyte.gz\n",
            "26427392/26421880 [==============================] - 1s 0us/step\n",
            "26435584/26421880 [==============================] - 1s 0us/step\n",
            "Downloading data from https://storage.googleapis.com/tensorflow/tf-keras-datasets/t10k-labels-idx1-ubyte.gz\n",
            "16384/5148 [===============================================================================================] - 0s 0us/step\n",
            "Downloading data from https://storage.googleapis.com/tensorflow/tf-keras-datasets/t10k-images-idx3-ubyte.gz\n",
            "4423680/4422102 [==============================] - 0s 0us/step\n",
            "4431872/4422102 [==============================] - 0s 0us/step\n"
          ]
        }
      ]
    },
    {
      "cell_type": "markdown",
      "source": [
        "1. Find the number of classes "
      ],
      "metadata": {
        "id": "EV4N9XxH6eMr"
      }
    },
    {
      "cell_type": "code",
      "source": [
        "# Number of Classes\n",
        "classes,idx = np.unique(y_train,return_index=True)\n",
        "print(\"Number of Classes: \",len(classes))"
      ],
      "metadata": {
        "colab": {
          "base_uri": "https://localhost:8080/"
        },
        "id": "n1zp5VXkcW4-",
        "outputId": "bd2bfec5-0e1e-460e-9c71-be972b66b909"
      },
      "execution_count": 4,
      "outputs": [
        {
          "output_type": "stream",
          "name": "stdout",
          "text": [
            "Number of Classes:  10\n"
          ]
        }
      ]
    },
    {
      "cell_type": "markdown",
      "source": [
        "2. Find the dimension of each image"
      ],
      "metadata": {
        "id": "Uc9vkae06qnF"
      }
    },
    {
      "cell_type": "code",
      "source": [
        "# Dimension of each image\n",
        "x_train[0].shape"
      ],
      "metadata": {
        "colab": {
          "base_uri": "https://localhost:8080/"
        },
        "id": "Xb-9NcTOcMvs",
        "outputId": "caded773-344e-4745-b905-e9de2d9bae12"
      },
      "execution_count": 5,
      "outputs": [
        {
          "output_type": "execute_result",
          "data": {
            "text/plain": [
              "(28, 28)"
            ]
          },
          "metadata": {},
          "execution_count": 5
        }
      ]
    },
    {
      "cell_type": "markdown",
      "source": [
        "3. Display One image from each class"
      ],
      "metadata": {
        "id": "yUmDILE57Dka"
      }
    },
    {
      "cell_type": "code",
      "source": [
        "for i in idx:\n",
        "  plt.imshow(x_train[i],cmap=\"binary\")\n",
        "  plt.show()"
      ],
      "metadata": {
        "colab": {
          "base_uri": "https://localhost:8080/",
          "height": 1000
        },
        "id": "uP1Q9J16cOok",
        "outputId": "e538f318-eff9-47ab-b8be-3d4a55f965e2"
      },
      "execution_count": 6,
      "outputs": [
        {
          "output_type": "display_data",
          "data": {
            "text/plain": [
              "<Figure size 432x288 with 1 Axes>"
            ],
            "image/png": "[encoded data removed]"
          },
          "metadata": {
            "needs_background": "light"
          }
        },
        {
          "output_type": "display_data",
          "data": {
            "text/plain": [
              "<Figure size 432x288 with 1 Axes>"
            ],
            "image/png": "[encoded data removed]"
          },
          "metadata": {
            "needs_background": "light"
          }
        },
        {
          "output_type": "display_data",
          "data": {
            "text/plain": [
              "<Figure size 432x288 with 1 Axes>"
            ],
            "image/png": "[encoded data removed]"
          },
          "metadata": {
            "needs_background": "light"
          }
        },
        {
          "output_type": "display_data",
          "data": {
            "text/plain": [
              "<Figure size 432x288 with 1 Axes>"
            ],
            "image/png": "[encoded data removed]"
          },
          "metadata": {
            "needs_background": "light"
          }
        },
        {
          "output_type": "display_data",
          "data": {
            "text/plain": [
              "<Figure size 432x288 with 1 Axes>"
            ],
            "image/png": "[encoded data removed]"
          },
          "metadata": {
            "needs_background": "light"
          }
        },
        {
          "output_type": "display_data",
          "data": {
            "text/plain": [
              "<Figure size 432x288 with 1 Axes>"
            ],
            "image/png": "[encoded data removed]"
          },
          "metadata": {
            "needs_background": "light"
          }
        },
        {
          "output_type": "display_data",
          "data": {
            "text/plain": [
              "<Figure size 432x288 with 1 Axes>"
            ],
            "image/png": "[encoded data removed]"
          },
          "metadata": {
            "needs_background": "light"
          }
        },
        {
          "output_type": "display_data",
          "data": {
            "text/plain": [
              "<Figure size 432x288 with 1 Axes>"
            ],
            "image/png": "[encoded data removed]"
          },
          "metadata": {
            "needs_background": "light"
          }
        },
        {
          "output_type": "display_data",
          "data": {
            "text/plain": [
              "<Figure size 432x288 with 1 Axes>"
            ],
            "image/png": "[encoded data removed]"
          },
          "metadata": {
            "needs_background": "light"
          }
        },
        {
          "output_type": "display_data",
          "data": {
            "text/plain": [
              "<Figure size 432x288 with 1 Axes>"
            ],
            "image/png": "[encoded data removed]"
          },
          "metadata": {
            "needs_background": "light"
          }
        }
      ]
    },
    {
      "cell_type": "markdown",
      "source": [
        "4. Perform Normalization"
      ],
      "metadata": {
        "id": "2OLlKdyn7aCM"
      }
    },
    {
      "cell_type": "code",
      "source": [
        "# Normalizing the images using min-max Normalization\n",
        "x_train = x_train/255.0\n",
        "x_test = x_test/255.0"
      ],
      "metadata": {
        "id": "bCN4AeOncQY0"
      },
      "execution_count": 7,
      "outputs": []
    },
    {
      "cell_type": "markdown",
      "source": [
        "5. Build two neural networks with 2 hidden layers and 5 hidden layers."
      ],
      "metadata": {
        "id": "XbhLNfa87wU0"
      }
    },
    {
      "cell_type": "code",
      "source": [
        "# Building NN Model using Keras Sequentail API\n",
        "model1 = tf.keras.Sequential()\n",
        "# 2 Hidden Layers\n",
        "model1.add(tf.keras.layers.Flatten(input_shape=[28,28],name=\"InputLayer\"))\n",
        "model1.add(tf.keras.layers.Dense(350,activation=\"relu\",name=\"HiddenLayer1\"))\n",
        "model1.add(tf.keras.layers.Dense(120,activation=\"relu\",name=\"HiddenLayer2\")) \n",
        "model1.add(tf.keras.layers.Dense(10,activation=\"softmax\",name=\"OutputLayer\"))\n",
        "\n",
        "model1.compile(loss=\"sparse_categorical_crossentropy\",optimizer=\"adam\",metrics=[\"accuracy\"])\n",
        "\n",
        "model1.summary()"
      ],
      "metadata": {
        "colab": {
          "base_uri": "https://localhost:8080/"
        },
        "id": "i_z1nHyGi8Y5",
        "outputId": "efc443a2-e622-4668-8bac-3b35c11d629f"
      },
      "execution_count": 8,
      "outputs": [
        {
          "output_type": "stream",
          "name": "stdout",
          "text": [
            "Model: \"sequential\"\n",
            "_________________________________________________________________\n",
            " Layer (type)                Output Shape              Param #   \n",
            "=================================================================\n",
            " InputLayer (Flatten)        (None, 784)               0         \n",
            "                                                                 \n",
            " HiddenLayer1 (Dense)        (None, 350)               274750    \n",
            "                                                                 \n",
            " HiddenLayer2 (Dense)        (None, 120)               42120     \n",
            "                                                                 \n",
            " OutputLayer (Dense)         (None, 10)                1210      \n",
            "                                                                 \n",
            "=================================================================\n",
            "Total params: 318,080\n",
            "Trainable params: 318,080\n",
            "Non-trainable params: 0\n",
            "_________________________________________________________________\n"
          ]
        }
      ]
    },
    {
      "cell_type": "code",
      "source": [
        "history1 = model1.fit(x_train,y_train,batch_size=40,epochs=12,validation_split=0.1)"
      ],
      "metadata": {
        "colab": {
          "base_uri": "https://localhost:8080/"
        },
        "id": "AJj__wsZk3cB",
        "outputId": "ed2138bf-5019-42b3-fcd1-889294a9fef0"
      },
      "execution_count": 9,
      "outputs": [
        {
          "output_type": "stream",
          "name": "stdout",
          "text": [
            "Epoch 1/12\n",
            "1350/1350 [==============================] - 6s 3ms/step - loss: 0.4845 - accuracy: 0.8259 - val_loss: 0.4085 - val_accuracy: 0.8557\n",
            "Epoch 2/12\n",
            "1350/1350 [==============================] - 3s 2ms/step - loss: 0.3606 - accuracy: 0.8688 - val_loss: 0.3529 - val_accuracy: 0.8717\n",
            "Epoch 3/12\n",
            "1350/1350 [==============================] - 3s 3ms/step - loss: 0.3267 - accuracy: 0.8782 - val_loss: 0.3365 - val_accuracy: 0.8778\n",
            "Epoch 4/12\n",
            "1350/1350 [==============================] - 3s 3ms/step - loss: 0.3011 - accuracy: 0.8881 - val_loss: 0.3438 - val_accuracy: 0.8838\n",
            "Epoch 5/12\n",
            "1350/1350 [==============================] - 3s 2ms/step - loss: 0.2846 - accuracy: 0.8931 - val_loss: 0.3282 - val_accuracy: 0.8820\n",
            "Epoch 6/12\n",
            "1350/1350 [==============================] - 3s 2ms/step - loss: 0.2673 - accuracy: 0.9011 - val_loss: 0.3216 - val_accuracy: 0.8867\n",
            "Epoch 7/12\n",
            "1350/1350 [==============================] - 3s 2ms/step - loss: 0.2544 - accuracy: 0.9046 - val_loss: 0.3258 - val_accuracy: 0.8892\n",
            "Epoch 8/12\n",
            "1350/1350 [==============================] - 3s 3ms/step - loss: 0.2441 - accuracy: 0.9072 - val_loss: 0.3295 - val_accuracy: 0.8907\n",
            "Epoch 9/12\n",
            "1350/1350 [==============================] - 3s 2ms/step - loss: 0.2334 - accuracy: 0.9111 - val_loss: 0.3381 - val_accuracy: 0.8788\n",
            "Epoch 10/12\n",
            "1350/1350 [==============================] - 3s 2ms/step - loss: 0.2238 - accuracy: 0.9156 - val_loss: 0.3242 - val_accuracy: 0.8858\n",
            "Epoch 11/12\n",
            "1350/1350 [==============================] - 3s 3ms/step - loss: 0.2128 - accuracy: 0.9199 - val_loss: 0.3394 - val_accuracy: 0.8920\n",
            "Epoch 12/12\n",
            "1350/1350 [==============================] - 3s 3ms/step - loss: 0.2073 - accuracy: 0.9215 - val_loss: 0.3696 - val_accuracy: 0.8880\n"
          ]
        }
      ]
    },
    {
      "cell_type": "code",
      "source": [
        "# Building NN Model using Keras Sequentail API\n",
        "model2 = tf.keras.Sequential()\n",
        "# 5 Hidden Layers\n",
        "model2.add(tf.keras.layers.Flatten(input_shape=[28,28],name=\"InputLayer\"))\n",
        "model2.add(tf.keras.layers.Dense(400,activation=\"relu\",name=\"HiddenLayer1\"))\n",
        "model2.add(tf.keras.layers.Dense(200,activation=\"relu\",name=\"HiddenLayer2\"))\n",
        "model2.add(tf.keras.layers.Dense(100,activation=\"relu\",name=\"HiddenLayer3\"))\n",
        "model2.add(tf.keras.layers.Dense(50,activation=\"relu\",name=\"HiddenLayer4\"))\n",
        "model2.add(tf.keras.layers.Dense(25,activation=\"relu\",name=\"HiddenLayer5\"))\n",
        "model2.add(tf.keras.layers.Dense(10,activation=\"softmax\",name=\"OutputLayer\"))\n",
        "\n",
        "model2.compile(loss=\"sparse_categorical_crossentropy\",optimizer=\"adam\",metrics=[\"accuracy\"])\n",
        "\n",
        "model2.summary()"
      ],
      "metadata": {
        "colab": {
          "base_uri": "https://localhost:8080/"
        },
        "id": "sS3yCe9klfCG",
        "outputId": "0e6bacde-a178-44ac-eee1-f537767319bd"
      },
      "execution_count": 10,
      "outputs": [
        {
          "output_type": "stream",
          "name": "stdout",
          "text": [
            "Model: \"sequential_1\"\n",
            "_________________________________________________________________\n",
            " Layer (type)                Output Shape              Param #   \n",
            "=================================================================\n",
            " InputLayer (Flatten)        (None, 784)               0         \n",
            "                                                                 \n",
            " HiddenLayer1 (Dense)        (None, 400)               314000    \n",
            "                                                                 \n",
            " HiddenLayer2 (Dense)        (None, 200)               80200     \n",
            "                                                                 \n",
            " HiddenLayer3 (Dense)        (None, 100)               20100     \n",
            "                                                                 \n",
            " HiddenLayer4 (Dense)        (None, 50)                5050      \n",
            "                                                                 \n",
            " HiddenLayer5 (Dense)        (None, 25)                1275      \n",
            "                                                                 \n",
            " OutputLayer (Dense)         (None, 10)                260       \n",
            "                                                                 \n",
            "=================================================================\n",
            "Total params: 420,885\n",
            "Trainable params: 420,885\n",
            "Non-trainable params: 0\n",
            "_________________________________________________________________\n"
          ]
        }
      ]
    },
    {
      "cell_type": "code",
      "source": [
        "history2 = model2.fit(x_train,y_train,batch_size=40,epochs=12,validation_split=0.1)"
      ],
      "metadata": {
        "colab": {
          "base_uri": "https://localhost:8080/"
        },
        "id": "zqqn-eB5mW2_",
        "outputId": "0ffeb66c-febf-4e49-c988-12a8bfb46443"
      },
      "execution_count": 11,
      "outputs": [
        {
          "output_type": "stream",
          "name": "stdout",
          "text": [
            "Epoch 1/12\n",
            "1350/1350 [==============================] - 4s 3ms/step - loss: 0.5186 - accuracy: 0.8105 - val_loss: 0.4112 - val_accuracy: 0.8490\n",
            "Epoch 2/12\n",
            "1350/1350 [==============================] - 4s 3ms/step - loss: 0.3765 - accuracy: 0.8640 - val_loss: 0.3717 - val_accuracy: 0.8750\n",
            "Epoch 3/12\n",
            "1350/1350 [==============================] - 4s 3ms/step - loss: 0.3392 - accuracy: 0.8755 - val_loss: 0.4206 - val_accuracy: 0.8382\n",
            "Epoch 4/12\n",
            "1350/1350 [==============================] - 4s 3ms/step - loss: 0.3131 - accuracy: 0.8845 - val_loss: 0.3393 - val_accuracy: 0.8737\n",
            "Epoch 5/12\n",
            "1350/1350 [==============================] - 4s 3ms/step - loss: 0.2939 - accuracy: 0.8908 - val_loss: 0.3460 - val_accuracy: 0.8828\n",
            "Epoch 6/12\n",
            "1350/1350 [==============================] - 4s 3ms/step - loss: 0.2811 - accuracy: 0.8953 - val_loss: 0.3286 - val_accuracy: 0.8790\n",
            "Epoch 7/12\n",
            "1350/1350 [==============================] - 4s 3ms/step - loss: 0.2695 - accuracy: 0.8981 - val_loss: 0.3439 - val_accuracy: 0.8763\n",
            "Epoch 8/12\n",
            "1350/1350 [==============================] - 4s 3ms/step - loss: 0.2583 - accuracy: 0.9031 - val_loss: 0.3550 - val_accuracy: 0.8765\n",
            "Epoch 9/12\n",
            "1350/1350 [==============================] - 4s 3ms/step - loss: 0.2483 - accuracy: 0.9075 - val_loss: 0.3417 - val_accuracy: 0.8853\n",
            "Epoch 10/12\n",
            "1350/1350 [==============================] - 4s 3ms/step - loss: 0.2409 - accuracy: 0.9095 - val_loss: 0.3282 - val_accuracy: 0.8817\n",
            "Epoch 11/12\n",
            "1350/1350 [==============================] - 4s 3ms/step - loss: 0.2341 - accuracy: 0.9123 - val_loss: 0.3095 - val_accuracy: 0.8907\n",
            "Epoch 12/12\n",
            "1350/1350 [==============================] - 4s 3ms/step - loss: 0.2218 - accuracy: 0.9172 - val_loss: 0.3301 - val_accuracy: 0.8855\n"
          ]
        }
      ]
    },
    {
      "cell_type": "code",
      "source": [
        "# Test result of the Model with 2 Hidden Layers\n",
        "model1.evaluate(x_test,y_test)"
      ],
      "metadata": {
        "colab": {
          "base_uri": "https://localhost:8080/"
        },
        "id": "tawbe0jVmjev",
        "outputId": "6218a784-43a8-4af0-a73d-8763f224053d"
      },
      "execution_count": 12,
      "outputs": [
        {
          "output_type": "stream",
          "name": "stdout",
          "text": [
            "313/313 [==============================] - 1s 3ms/step - loss: 0.3864 - accuracy: 0.8792\n"
          ]
        },
        {
          "output_type": "execute_result",
          "data": {
            "text/plain": [
              "[0.386417418718338, 0.8791999816894531]"
            ]
          },
          "metadata": {},
          "execution_count": 12
        }
      ]
    },
    {
      "cell_type": "code",
      "source": [
        "# Test result of the Model with 5 Hidden Layers\n",
        "model2.evaluate(x_test,y_test)"
      ],
      "metadata": {
        "colab": {
          "base_uri": "https://localhost:8080/"
        },
        "id": "LcP0ijMWnCEc",
        "outputId": "98c7bbdf-ac8f-440d-b20d-775149c93918"
      },
      "execution_count": 13,
      "outputs": [
        {
          "output_type": "stream",
          "name": "stdout",
          "text": [
            "313/313 [==============================] - 1s 3ms/step - loss: 0.3532 - accuracy: 0.8831\n"
          ]
        },
        {
          "output_type": "execute_result",
          "data": {
            "text/plain": [
              "[0.3532352149486542, 0.8830999732017517]"
            ]
          },
          "metadata": {},
          "execution_count": 13
        }
      ]
    },
    {
      "cell_type": "markdown",
      "source": [
        "We can see that both the models have almost same (i.e, 88.70% and 88.24%) Test Accuracy"
      ],
      "metadata": {
        "id": "Dn9etRW18ZLy"
      }
    },
    {
      "cell_type": "code",
      "source": [
        "# Model with 2 Hidden Layers\n",
        "sns.set_palette(\"Dark2\")\n",
        "acc1 = history1.history['accuracy']\n",
        "val_acc1 = history1.history['val_accuracy']\n",
        "loss1 = history1.history['loss']\n",
        "val_loss1 = history1.history['val_loss']\n",
        "\n",
        "x=np.linspace(0,12,12)\n",
        "plt.plot(x,acc1)\n",
        "plt.plot(x,val_acc1)\n",
        "plt.title(\"Train Accuracy Vs Validation Accuracy\")\n",
        "plt.xlabel(\"Epochs\")\n",
        "plt.ylabel(\"Accuracy\")\n",
        "plt.setp(plt.gca(), ylim=(0, 1))\n",
        "plt.show()\n",
        "\n",
        "plt.plot(x,loss1)\n",
        "plt.plot(x,val_loss1)\n",
        "plt.title(\"Train Cost Vs Validation Cost\")\n",
        "plt.xlabel(\"Epochs\")\n",
        "plt.ylabel(\"Accuracy\")\n",
        "plt.setp(plt.gca(), ylim=(0, 1))\n",
        "plt.show()"
      ],
      "metadata": {
        "colab": {
          "base_uri": "https://localhost:8080/",
          "height": 573
        },
        "id": "39XyxMKwnMye",
        "outputId": "75b94ee3-d69f-4973-faf0-1efedce64bac"
      },
      "execution_count": 17,
      "outputs": [
        {
          "output_type": "display_data",
          "data": {
            "text/plain": [
              "<Figure size 432x288 with 1 Axes>"
            ],
            "image/png": "[encoded data removed]"
          },
          "metadata": {
            "needs_background": "light"
          }
        },
        {
          "output_type": "display_data",
          "data": {
            "text/plain": [
              "<Figure size 432x288 with 1 Axes>"
            ],
            "image/png": "[encoded data removed]"
          },
          "metadata": {
            "needs_background": "light"
          }
        }
      ]
    },
    {
      "cell_type": "code",
      "source": [
        "# Model with 5 Hidden Layers\n",
        "acc2 = history2.history['accuracy']\n",
        "val_acc2 = history2.history['val_accuracy']\n",
        "loss2 = history2.history['loss']\n",
        "val_loss2 = history2.history['val_loss']\n",
        "\n",
        "x=np.linspace(0,12,12)\n",
        "plt.plot(x,acc2)\n",
        "plt.plot(x,val_acc2)\n",
        "plt.title(\"Train Accuracy Vs Validation Accuracy\")\n",
        "plt.xlabel(\"Epochs\")\n",
        "plt.ylabel(\"Accuracy\")\n",
        "plt.setp(plt.gca(), ylim=(0, 1))\n",
        "plt.show()\n",
        "\n",
        "plt.plot(x,loss2)\n",
        "plt.plot(x,val_loss2)\n",
        "plt.title(\"Train Cost Vs Validation Cost\")\n",
        "plt.xlabel(\"Epochs\")\n",
        "plt.ylabel(\"Accuracy\")\n",
        "plt.setp(plt.gca(), ylim=(0, 1))\n",
        "plt.show()"
      ],
      "metadata": {
        "colab": {
          "base_uri": "https://localhost:8080/",
          "height": 573
        },
        "id": "fTsZ4_tMoF9q",
        "outputId": "3ced68b0-1a9e-4ea2-b9a9-2c15dbf09e2b"
      },
      "execution_count": 18,
      "outputs": [
        {
          "output_type": "display_data",
          "data": {
            "text/plain": [
              "<Figure size 432x288 with 1 Axes>"
            ],
            "image/png": "[encoded data removed]"
          },
          "metadata": {
            "needs_background": "light"
          }
        },
        {
          "output_type": "display_data",
          "data": {
            "text/plain": [
              "<Figure size 432x288 with 1 Axes>"
            ],
            "image/png": "[encoded data removed]"
          },
          "metadata": {
            "needs_background": "light"
          }
        }
      ]
    },
    {
      "cell_type": "markdown",
      "source": [
        "The Graph of Train Accuracy vs Validation Accuracy is Almost Similar for both the Models"
      ],
      "metadata": {
        "id": "ZueXZq_lBC-Z"
      }
    },
    {
      "cell_type": "code",
      "source": [
        ""
      ],
      "metadata": {
        "id": "mWU9ATjFsAt9"
      },
      "execution_count": 15,
      "outputs": []
    }
  ]
}